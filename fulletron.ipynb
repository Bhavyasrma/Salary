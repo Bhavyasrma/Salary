{
 "cells": [
  {
   "cell_type": "code",
   "execution_count": 1,
   "metadata": {},
   "outputs": [
    {
     "name": "stdout",
     "output_type": "stream",
     "text": [
      "Requirement already satisfied: xlwings in c:\\users\\aviri\\appdata\\local\\programs\\python\\python310\\lib\\site-packages (0.30.13)\n",
      "Requirement already satisfied: pywin32>=224 in c:\\users\\aviri\\appdata\\local\\programs\\python\\python310\\lib\\site-packages (from xlwings) (306)\n",
      "Note: you may need to restart the kernel to use updated packages.\n"
     ]
    },
    {
     "name": "stderr",
     "output_type": "stream",
     "text": [
      "\n",
      "[notice] A new release of pip available: 22.2.2 -> 23.3.2\n",
      "[notice] To update, run: python.exe -m pip install --upgrade pip\n"
     ]
    }
   ],
   "source": [
    "pip install xlwings"
   ]
  },
  {
   "cell_type": "code",
   "execution_count": 13,
   "metadata": {},
   "outputs": [],
   "source": [
    "import pandas as pd\n",
    "import xlwings as xw\n",
    "\n",
    "PATH = \"SALARY_NEW.xls\"\n",
    "wb = xw.Book(PATH)\n",
    "sheet = wb.sheets['DATA']\n",
    "\n",
    "df = sheet['B:M'].options(pd.DataFrame, index=False, header=True).value\n",
    "df = df.dropna(how=\"all\")\n"
   ]
  },
  {
   "cell_type": "code",
   "execution_count": 14,
   "metadata": {},
   "outputs": [],
   "source": [
    "entities = df.FOS.unique()\n",
    "products = [\"PL SAL\", \"PL SELF\", \"DIGITAL\"]\n",
    "bkt_types = [\"FE\", 1, 2, 3,4]\n",
    "column_sum={}\n",
    "column_sum2={}\n",
    "enity_sum={}\n",
    "enity_sum2 = {}\n",
    "dfs = {}\n",
    "dfs2 = {}\n",
    "dfs3 = {}\n",
    "for entity in entities:\n",
    "    column_sum ={}\n",
    "    column_sum2 = {}\n",
    "    for bkt in bkt_types:\n",
    "        for product in products:\n",
    "            key = f\"df_{entity}_{product}_{bkt}\"\n",
    "            dfs[key] = df.loc[(df['FOS'] == entity) & (df['PRODUCT'] == product) & (df['BKT'] == bkt) & (df['Status'] == 'PAID')]\n",
    "            dfs2[key] = df.loc[(df['FOS'] == entity) & (df['PRODUCT'] == product) & (df['BKT'] == bkt) & (df['Status'] == 'UNPAID')]\n",
    "            dfs3[key] = df.loc[(df['FOS'] == entity) & (df['PRODUCT'] == product) & (df['BKT'] == bkt) & (df['RB'] == 'NM')]\n",
    "            condition = dfs[key]['POS'].sum()\n",
    "            condition2 = dfs2[key]['POS'].sum()\n",
    "            condition3 = dfs3[key]['ACTUAL EMI'].sum()\n",
    "            total = condition + condition2\n",
    "            result = (condition/total) if total != 0 else 0\n",
    "            nm_result = (condition3/total) if total != 0 else 0           \n",
    "            column_sum[key]=result\n",
    "            column_sum2[key]= nm_result\n",
    "    enity_sum[entity]  = column_sum\n",
    "    enity_sum2[entity]  = column_sum2\n"
   ]
  },
  {
   "cell_type": "code",
   "execution_count": 15,
   "metadata": {},
   "outputs": [
    {
     "name": "stderr",
     "output_type": "stream",
     "text": [
      "C:\\Users\\aviri\\AppData\\Local\\Temp\\ipykernel_27436\\3579046655.py:22: FutureWarning: save is not part of the public API, usage can give in unexpected results and will be removed in a future version\n",
      "  writer.save()\n",
      "c:\\Users\\aviri\\AppData\\Local\\Programs\\Python\\Python310\\lib\\site-packages\\xlsxwriter\\workbook.py:339: UserWarning: Calling close() on already closed file.\n",
      "  warn(\"Calling close() on already closed file.\")\n"
     ]
    }
   ],
   "source": [
    "writer = pd.ExcelWriter(\"Refine2.xlsx\", engine=\"xlsxwriter\")\n",
    "workbook = writer.book\n",
    "worksheet = workbook.add_worksheet()\n",
    "merge_format = workbook.add_format({'align': 'center', 'valign': 'vcenter', 'border': 1,'bold' : True})\n",
    "worksheet.merge_range(17, 0, 17, 13, 'DEC23', merge_format)\n",
    "\n",
    "start_row = 3  \n",
    "\n",
    "for j, key in enumerate(enity_sum):\n",
    "    worksheet.write(start_row+j, 0, key, merge_format)\n",
    "    for i, key_sum in enumerate(enity_sum[key]):\n",
    "       worksheet.write(3+j, 1+i, enity_sum[key][key_sum])\n",
    "\n",
    "start_r = 15\n",
    "    \n",
    "for j, key in enumerate(enity_sum2):\n",
    "    worksheet.write(start_r+j, 0, key, merge_format)\n",
    "    for i, key_sum in enumerate(enity_sum2[key]):\n",
    "       worksheet.write(15+j, 15+i, enity_sum2[key][key_sum])\n",
    "\n",
    " \n",
    "writer.save()\n",
    "writer.close()\n"
   ]
  },
  {
   "cell_type": "code",
   "execution_count": 16,
   "metadata": {},
   "outputs": [],
   "source": [
    "sheet2 = wb.sheets['Payout']\n",
    "df2 = sheet2['A:I'].options(pd.DataFrame, index=False, header=True).value\n",
    "df2 = df2.dropna(how=\"all\")\n",
    "\n",
    "df_FE = df2.iloc[1:3 ,1:6]\n",
    "df_FE.columns = df_FE.iloc[0]\n",
    "df_FE = df_FE[1:]\n",
    "\n",
    "df_bkt1_PLSAL = df2.iloc[4:10 ,0:6]\n",
    "df_bkt1_PLSAL.columns = df_bkt1_PLSAL.iloc[0]\n",
    "df_bkt1_PLSAL = df_bkt1_PLSAL[1:]\n",
    "df_bkt1_PLSAL.set_index('NM', inplace=True)\n",
    "\n",
    "df_bkt1_PLSELF = df2.iloc[11:16 ,0:6]\n",
    "df_bkt1_PLSELF.columns = df_bkt1_PLSELF.iloc[0]\n",
    "df_bkt1_PLSELF = df_bkt1_PLSELF[1:]\n",
    "df_bkt1_PLSELF.set_index('NM', inplace=True)\n",
    "\n",
    "df_bkt2 = df2.iloc[17:21 ,0:5]\n",
    "df_bkt2.columns = df_bkt2.iloc[0]\n",
    "df_bkt2 = df_bkt2[1:]\n",
    "df_bkt2.set_index('NM', inplace=True)\n",
    "\n",
    "df_bkt4 = df2.iloc[22:26 ,0:5]\n",
    "df_bkt4.columns = df_bkt4.iloc[0]\n",
    "df_bkt4 = df_bkt4[1:]\n",
    "df_bkt4.set_index('NM', inplace=True)\n",
    "\n"
   ]
  },
  {
   "cell_type": "code",
   "execution_count": 17,
   "metadata": {},
   "outputs": [],
   "source": [
    "def bkt_name(key):\n",
    "    a = key.split('_')\n",
    "    bkt_name = a[3]\n",
    "    if a[3] == \"1\":\n",
    "        bkt_name = a[3]+\"_\"+a[2] \n",
    "    return bkt_name \n",
    "\n",
    "def get_index_normal(df,v1):\n",
    "    index_list = list(df.columns)\n",
    "    \n",
    "    for i,index in enumerate(index_list):\n",
    "        if index>v1:\n",
    "            to_return_upper = index_list[i-1]\n",
    "            break\n",
    "        elif index==v1:\n",
    "            to_return_upper = index\n",
    "            break\n",
    "        elif v1 == 0:\n",
    "            to_return_upper = 0\n",
    "            break\n",
    "    return to_return_upper\n",
    "\n",
    "def get_index_nm(df,v2):\n",
    "    \n",
    "    index_list = df['NM'].tolist()\n",
    "    \n",
    "    for i,index in enumerate(index_list):\n",
    "        if index>v2:\n",
    "            to_return_side = index_list[i-1]\n",
    "            break\n",
    "        elif index==v2:\n",
    "            to_return_side = index\n",
    "            break\n",
    "        elif v2 == 0:\n",
    "            to_return_side = 0\n",
    "            break\n",
    "    return to_return_side  \n",
    "\n",
    "  "
   ]
  },
  {
   "cell_type": "code",
   "execution_count": 18,
   "metadata": {},
   "outputs": [
    {
     "data": {
      "text/plain": [
       "'enity_sum ={\"Sudesh_bkt1_PLSAL\":\"test\"}\\nfor i,key in enumerate(enity_sum): \\n    bkt_name   =  bkt_name(key)\\nv1 = 0.84  \\nindex = get_index(Dict1[bkt_name],v1)'"
      ]
     },
     "execution_count": 18,
     "metadata": {},
     "output_type": "execute_result"
    }
   ],
   "source": [
    "Dict1 = {'FE': df_FE, '1_PL SAL': df_bkt1_PLSAL, '1_PL SELF':df_bkt1_PLSELF, '2':df_bkt2, '3':df_bkt2, '4':df_bkt4}\n",
    "\n",
    "\n",
    "'''enity_sum ={\"Sudesh_bkt1_PLSAL\":\"test\"}\n",
    "for i,key in enumerate(enity_sum): \n",
    "    bkt_name   =  bkt_name(key)\n",
    "v1 = 0.84  \n",
    "index = get_index(Dict1[bkt_name],v1)'''\n",
    "\n",
    "        "
   ]
  },
  {
   "cell_type": "code",
   "execution_count": 19,
   "metadata": {},
   "outputs": [
    {
     "name": "stdout",
     "output_type": "stream",
     "text": [
      "0.88\n",
      "____________________\n",
      "0.88\n",
      "____________________\n",
      "1.0\n",
      "____________________\n",
      "0.85\n"
     ]
    },
    {
     "ename": "KeyError",
     "evalue": "'NM'",
     "output_type": "error",
     "traceback": [
      "\u001b[1;31m---------------------------------------------------------------------------\u001b[0m",
      "\u001b[1;31mKeyError\u001b[0m                                  Traceback (most recent call last)",
      "File \u001b[1;32mc:\\Users\\aviri\\AppData\\Local\\Programs\\Python\\Python310\\lib\\site-packages\\pandas\\core\\indexes\\base.py:3800\u001b[0m, in \u001b[0;36mIndex.get_loc\u001b[1;34m(self, key, method, tolerance)\u001b[0m\n\u001b[0;32m   3799\u001b[0m \u001b[38;5;28;01mtry\u001b[39;00m:\n\u001b[1;32m-> 3800\u001b[0m     \u001b[38;5;28;01mreturn\u001b[39;00m \u001b[38;5;28;43mself\u001b[39;49m\u001b[38;5;241;43m.\u001b[39;49m\u001b[43m_engine\u001b[49m\u001b[38;5;241;43m.\u001b[39;49m\u001b[43mget_loc\u001b[49m\u001b[43m(\u001b[49m\u001b[43mcasted_key\u001b[49m\u001b[43m)\u001b[49m\n\u001b[0;32m   3801\u001b[0m \u001b[38;5;28;01mexcept\u001b[39;00m \u001b[38;5;167;01mKeyError\u001b[39;00m \u001b[38;5;28;01mas\u001b[39;00m err:\n",
      "File \u001b[1;32mc:\\Users\\aviri\\AppData\\Local\\Programs\\Python\\Python310\\lib\\site-packages\\pandas\\_libs\\index.pyx:138\u001b[0m, in \u001b[0;36mpandas._libs.index.IndexEngine.get_loc\u001b[1;34m()\u001b[0m\n",
      "File \u001b[1;32mc:\\Users\\aviri\\AppData\\Local\\Programs\\Python\\Python310\\lib\\site-packages\\pandas\\_libs\\index.pyx:165\u001b[0m, in \u001b[0;36mpandas._libs.index.IndexEngine.get_loc\u001b[1;34m()\u001b[0m\n",
      "File \u001b[1;32mpandas\\_libs\\hashtable_class_helper.pxi:5745\u001b[0m, in \u001b[0;36mpandas._libs.hashtable.PyObjectHashTable.get_item\u001b[1;34m()\u001b[0m\n",
      "File \u001b[1;32mpandas\\_libs\\hashtable_class_helper.pxi:5753\u001b[0m, in \u001b[0;36mpandas._libs.hashtable.PyObjectHashTable.get_item\u001b[1;34m()\u001b[0m\n",
      "\u001b[1;31mKeyError\u001b[0m: 'NM'",
      "\nThe above exception was the direct cause of the following exception:\n",
      "\u001b[1;31mKeyError\u001b[0m                                  Traceback (most recent call last)",
      "Cell \u001b[1;32mIn[19], line 9\u001b[0m\n\u001b[0;32m      7\u001b[0m \u001b[38;5;28mprint\u001b[39m(index1)\n\u001b[0;32m      8\u001b[0m \u001b[38;5;28;01mif\u001b[39;00m (bkt_name_final \u001b[38;5;241m!=\u001b[39m \u001b[38;5;124m\"\u001b[39m\u001b[38;5;124mFE\u001b[39m\u001b[38;5;124m\"\u001b[39m \u001b[38;5;129;01mand\u001b[39;00m v2 \u001b[38;5;241m!=\u001b[39m\u001b[38;5;241m0\u001b[39m) :\n\u001b[1;32m----> 9\u001b[0m     index2 \u001b[38;5;241m=\u001b[39m \u001b[43mget_index_nm\u001b[49m\u001b[43m(\u001b[49m\u001b[43mDict1\u001b[49m\u001b[43m[\u001b[49m\u001b[43mbkt_name_final\u001b[49m\u001b[43m]\u001b[49m\u001b[43m,\u001b[49m\u001b[43mv2\u001b[49m\u001b[43m)\u001b[49m\n\u001b[0;32m     10\u001b[0m     \u001b[38;5;28mprint\u001b[39m(index2)\n\u001b[0;32m     12\u001b[0m \u001b[38;5;28mprint\u001b[39m (\u001b[38;5;124m\"\u001b[39m\u001b[38;5;124m____________________\u001b[39m\u001b[38;5;124m\"\u001b[39m)\n",
      "Cell \u001b[1;32mIn[17], line 25\u001b[0m, in \u001b[0;36mget_index_nm\u001b[1;34m(df, v2)\u001b[0m\n\u001b[0;32m     23\u001b[0m \u001b[38;5;28;01mdef\u001b[39;00m \u001b[38;5;21mget_index_nm\u001b[39m(df,v2):\n\u001b[1;32m---> 25\u001b[0m     index_list \u001b[38;5;241m=\u001b[39m \u001b[43mdf\u001b[49m\u001b[43m[\u001b[49m\u001b[38;5;124;43m'\u001b[39;49m\u001b[38;5;124;43mNM\u001b[39;49m\u001b[38;5;124;43m'\u001b[39;49m\u001b[43m]\u001b[49m\u001b[38;5;241m.\u001b[39mtolist()\n\u001b[0;32m     27\u001b[0m     \u001b[38;5;28;01mfor\u001b[39;00m i,index \u001b[38;5;129;01min\u001b[39;00m \u001b[38;5;28menumerate\u001b[39m(index_list):\n\u001b[0;32m     28\u001b[0m         \u001b[38;5;28;01mif\u001b[39;00m index\u001b[38;5;241m>\u001b[39mv2:\n",
      "File \u001b[1;32mc:\\Users\\aviri\\AppData\\Local\\Programs\\Python\\Python310\\lib\\site-packages\\pandas\\core\\frame.py:3805\u001b[0m, in \u001b[0;36mDataFrame.__getitem__\u001b[1;34m(self, key)\u001b[0m\n\u001b[0;32m   3803\u001b[0m \u001b[38;5;28;01mif\u001b[39;00m \u001b[38;5;28mself\u001b[39m\u001b[38;5;241m.\u001b[39mcolumns\u001b[38;5;241m.\u001b[39mnlevels \u001b[38;5;241m>\u001b[39m \u001b[38;5;241m1\u001b[39m:\n\u001b[0;32m   3804\u001b[0m     \u001b[38;5;28;01mreturn\u001b[39;00m \u001b[38;5;28mself\u001b[39m\u001b[38;5;241m.\u001b[39m_getitem_multilevel(key)\n\u001b[1;32m-> 3805\u001b[0m indexer \u001b[38;5;241m=\u001b[39m \u001b[38;5;28;43mself\u001b[39;49m\u001b[38;5;241;43m.\u001b[39;49m\u001b[43mcolumns\u001b[49m\u001b[38;5;241;43m.\u001b[39;49m\u001b[43mget_loc\u001b[49m\u001b[43m(\u001b[49m\u001b[43mkey\u001b[49m\u001b[43m)\u001b[49m\n\u001b[0;32m   3806\u001b[0m \u001b[38;5;28;01mif\u001b[39;00m is_integer(indexer):\n\u001b[0;32m   3807\u001b[0m     indexer \u001b[38;5;241m=\u001b[39m [indexer]\n",
      "File \u001b[1;32mc:\\Users\\aviri\\AppData\\Local\\Programs\\Python\\Python310\\lib\\site-packages\\pandas\\core\\indexes\\base.py:3802\u001b[0m, in \u001b[0;36mIndex.get_loc\u001b[1;34m(self, key, method, tolerance)\u001b[0m\n\u001b[0;32m   3800\u001b[0m     \u001b[38;5;28;01mreturn\u001b[39;00m \u001b[38;5;28mself\u001b[39m\u001b[38;5;241m.\u001b[39m_engine\u001b[38;5;241m.\u001b[39mget_loc(casted_key)\n\u001b[0;32m   3801\u001b[0m \u001b[38;5;28;01mexcept\u001b[39;00m \u001b[38;5;167;01mKeyError\u001b[39;00m \u001b[38;5;28;01mas\u001b[39;00m err:\n\u001b[1;32m-> 3802\u001b[0m     \u001b[38;5;28;01mraise\u001b[39;00m \u001b[38;5;167;01mKeyError\u001b[39;00m(key) \u001b[38;5;28;01mfrom\u001b[39;00m \u001b[38;5;21;01merr\u001b[39;00m\n\u001b[0;32m   3803\u001b[0m \u001b[38;5;28;01mexcept\u001b[39;00m \u001b[38;5;167;01mTypeError\u001b[39;00m:\n\u001b[0;32m   3804\u001b[0m     \u001b[38;5;66;03m# If we have a listlike key, _check_indexing_error will raise\u001b[39;00m\n\u001b[0;32m   3805\u001b[0m     \u001b[38;5;66;03m#  InvalidIndexError. Otherwise we fall through and re-raise\u001b[39;00m\n\u001b[0;32m   3806\u001b[0m     \u001b[38;5;66;03m#  the TypeError.\u001b[39;00m\n\u001b[0;32m   3807\u001b[0m     \u001b[38;5;28mself\u001b[39m\u001b[38;5;241m.\u001b[39m_check_indexing_error(key)\n",
      "\u001b[1;31mKeyError\u001b[0m: 'NM'"
     ]
    }
   ],
   "source": [
    "for key in enity_sum:\n",
    "    for key2 in enity_sum[key]:\n",
    "        v1 = enity_sum[key][key2]\n",
    "        v2 = enity_sum2[key][key2]\n",
    "        bkt_name_final = bkt_name(key2)\n",
    "        index1 = get_index_normal(Dict1[bkt_name_final],v1)\n",
    "        print(index1)\n",
    "        if (bkt_name_final != \"FE\" and v2 !=0) :\n",
    "            index2 = get_index_nm(Dict1[bkt_name_final],v2)\n",
    "            print(index2)\n",
    "            \n",
    "        print (\"____________________\")\n",
    "\n",
    "            \n",
    "\n",
    "           \n",
    "        \n",
    "print(index2)"
   ]
  },
  {
   "cell_type": "code",
   "execution_count": null,
   "metadata": {},
   "outputs": [
    {
     "data": {
      "text/plain": [
       "0.03"
      ]
     },
     "execution_count": 56,
     "metadata": {},
     "output_type": "execute_result"
    }
   ],
   "source": [
    "df3.loc[0.08,0.8]"
   ]
  }
 ],
 "metadata": {
  "kernelspec": {
   "display_name": "Python 3",
   "language": "python",
   "name": "python3"
  },
  "language_info": {
   "codemirror_mode": {
    "name": "ipython",
    "version": 3
   },
   "file_extension": ".py",
   "mimetype": "text/x-python",
   "name": "python",
   "nbconvert_exporter": "python",
   "pygments_lexer": "ipython3",
   "version": "3.10.7"
  }
 },
 "nbformat": 4,
 "nbformat_minor": 2
}
